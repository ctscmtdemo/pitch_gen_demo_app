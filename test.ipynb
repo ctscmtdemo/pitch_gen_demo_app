{
 "cells": [
  {
   "cell_type": "code",
   "execution_count": 5,
   "metadata": {},
   "outputs": [],
   "source": [
    "import streamlit as st\n",
    "import google.generativeai as genai\n",
    "\n",
    "genai.configure(api_key=st.secrets[\"GEMINI_API_KEY\"])\n",
    "generation_config = {\n",
    "\"temperature\": 0,\n",
    "\"top_p\": 0.95,\n",
    "\"top_k\": 40,\n",
    "\"max_output_tokens\": 8192,\n",
    "\"response_mime_type\": \"application/json\",\n",
    "\"response_schema\": {\n",
    "    \"type\":\"object\",\n",
    "    \"properties\":{\n",
    "        \"industry\":{\n",
    "            \"type\":\"string\"\n",
    "        },\n",
    "        \"solution\":{\n",
    "            \"type\":\"string\"\n",
    "        }\n",
    "    }\n",
    "}\n",
    "}\n",
    "\n",
    "model = genai.GenerativeModel(\n",
    "    model_name=\"gemini-1.5-flash\",\n",
    "    generation_config=generation_config,\n",
    ")\n",
    "prompt = \"\"\"\n",
    "Given a context extract industry and solution and select only one of the given options for industry and solution.\n",
    "```context\n",
    "{context}\n",
    "```\n",
    "Industry = [\"Financial Services\",\"Retail\",\"Technology\"]\n",
    "Solution = [\"Artificial Intelligence\", \"Data Analytics\"]\n",
    "\n",
    "\"\"\"\n",
    "\n",
    "c = \"\"\"\n",
    "Generate a pitch deck for a technology company for a RFP . The generated pitch should include a successful vendor proposal, covering areas like company background, technical expertise, project management capabilities, and proposal format.\n",
    "\"\"\"\n",
    "\n",
    "res = model.generate_content(prompt.format(context=c))\n",
    "import json\n",
    "j = json.loads(res.text)"
   ]
  },
  {
   "cell_type": "code",
   "execution_count": 7,
   "metadata": {},
   "outputs": [
    {
     "data": {
      "text/plain": [
       "{'industry': 'Technology', 'solution': 'Artificial Intelligence'}"
      ]
     },
     "execution_count": 7,
     "metadata": {},
     "output_type": "execute_result"
    }
   ],
   "source": [
    "j"
   ]
  },
  {
   "cell_type": "code",
   "execution_count": 7,
   "metadata": {},
   "outputs": [
    {
     "data": {
      "text/plain": [
       "True"
      ]
     },
     "execution_count": 7,
     "metadata": {},
     "output_type": "execute_result"
    }
   ],
   "source": [
    "import os\n",
    "import google.generativeai as genai\n",
    "from dotenv import load_dotenv\n",
    "\n",
    "load_dotenv(\".gitignore/.env\")"
   ]
  },
  {
   "cell_type": "code",
   "execution_count": null,
   "metadata": {},
   "outputs": [],
   "source": []
  }
 ],
 "metadata": {
  "kernelspec": {
   "display_name": "Python 3",
   "language": "python",
   "name": "python3"
  },
  "language_info": {
   "codemirror_mode": {
    "name": "ipython",
    "version": 3
   },
   "file_extension": ".py",
   "mimetype": "text/x-python",
   "name": "python",
   "nbconvert_exporter": "python",
   "pygments_lexer": "ipython3",
   "version": "3.11.10"
  }
 },
 "nbformat": 4,
 "nbformat_minor": 2
}
